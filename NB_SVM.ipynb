{
 "cells": [
  {
   "cell_type": "markdown",
   "metadata": {
    "colab_type": "text",
    "id": "2hnd7eCTlnlZ"
   },
   "source": [
    "# Fake News Classification (Naive Bayes and SVM)"
   ]
  },
  {
   "cell_type": "markdown",
   "metadata": {
    "colab_type": "text",
    "id": "5VZI84EUlnla"
   },
   "source": [
    "## 1. Import Packages and Read Data**"
   ]
  },
  {
   "cell_type": "code",
   "execution_count": 1,
   "metadata": {
    "_cell_guid": "b1076dfc-b9ad-4769-8c92-a6c4dae69d19",
    "_uuid": "8f2839f25d086af736a60e9eeb907d3b93b6e0e5",
    "colab": {
     "base_uri": "https://localhost:8080/",
     "height": 35
    },
    "colab_type": "code",
    "collapsed": true,
    "executionInfo": {
     "elapsed": 750,
     "status": "ok",
     "timestamp": 1555796380305,
     "user": {
      "displayName": "Yipin Lu",
      "photoUrl": "https://lh4.googleusercontent.com/-ZWbmL7r5muU/AAAAAAAAAAI/AAAAAAAAAAs/s5H67RZfL_s/s64/photo.jpg",
      "userId": "00076741457125381155"
     },
     "user_tz": -480
    },
    "id": "Qsc37_n1lnlc",
    "outputId": "a5c9b9b7-cf9f-412a-e91b-99bdfd4abc96"
   },
   "outputs": [],
   "source": [
    "# This Python 3 environment comes with many helpful analytics libraries installed\n",
    "# It is defined by the kaggle/python docker image: https://github.com/kaggle/docker-python\n",
    "# For example, here's several helpful packages to load in \n",
    "\n",
    "import numpy as np # linear algebra\n",
    "import pandas as pd # data processing, CSV file I/O (e.g. pd.read_csv)\n",
    "import warnings\n",
    "warnings.filterwarnings('ignore')"
   ]
  },
  {
   "cell_type": "code",
   "execution_count": 2,
   "metadata": {
    "colab": {},
    "colab_type": "code",
    "collapsed": true,
    "id": "ususAPFhlnli"
   },
   "outputs": [],
   "source": [
    "import pandas as pd\n",
    "import numpy as np\n",
    "import nltk\n",
    "from nltk.stem import WordNetLemmatizer\n",
    "from nltk.corpus import stopwords\n",
    "#import keras\n",
    "import re\n",
    "import string"
   ]
  },
  {
   "cell_type": "code",
   "execution_count": 3,
   "metadata": {
    "_cell_guid": "79c7e3d0-c299-4dcb-8224-4455121ee9b0",
    "_uuid": "d629ff2d2480ee46fbb7e2d37f6b5fab8052498a",
    "colab": {},
    "colab_type": "code",
    "collapsed": true,
    "id": "kOGwirAXlnll"
   },
   "outputs": [],
   "source": [
    "## Read the first 50000 records of the training dataset\n",
    "df = pd.read_csv('data.csv')"
   ]
  },
  {
   "cell_type": "code",
   "execution_count": 4,
   "metadata": {
    "colab": {
     "base_uri": "https://localhost:8080/",
     "height": 375
    },
    "colab_type": "code",
    "collapsed": false,
    "executionInfo": {
     "elapsed": 651,
     "status": "ok",
     "timestamp": 1555796387752,
     "user": {
      "displayName": "Yipin Lu",
      "photoUrl": "https://lh4.googleusercontent.com/-ZWbmL7r5muU/AAAAAAAAAAI/AAAAAAAAAAs/s5H67RZfL_s/s64/photo.jpg",
      "userId": "00076741457125381155"
     },
     "user_tz": -480
    },
    "id": "Vh0fVxrQlnlo",
    "outputId": "194359f9-3bf7-4164-bb5f-822aed26e61f"
   },
   "outputs": [
    {
     "data": {
      "text/html": [
       "<div>\n",
       "<style scoped>\n",
       "    .dataframe tbody tr th:only-of-type {\n",
       "        vertical-align: middle;\n",
       "    }\n",
       "\n",
       "    .dataframe tbody tr th {\n",
       "        vertical-align: top;\n",
       "    }\n",
       "\n",
       "    .dataframe thead th {\n",
       "        text-align: right;\n",
       "    }\n",
       "</style>\n",
       "<table border=\"1\" class=\"dataframe\">\n",
       "  <thead>\n",
       "    <tr style=\"text-align: right;\">\n",
       "      <th></th>\n",
       "      <th>URLs</th>\n",
       "      <th>Headline</th>\n",
       "      <th>Body</th>\n",
       "      <th>Label</th>\n",
       "    </tr>\n",
       "  </thead>\n",
       "  <tbody>\n",
       "    <tr>\n",
       "      <th>0</th>\n",
       "      <td>http://www.bbc.com/news/world-us-canada-414191...</td>\n",
       "      <td>Four ways Bob Corker skewered Donald Trump</td>\n",
       "      <td>Image copyright Getty Images\\nOn Sunday mornin...</td>\n",
       "      <td>1</td>\n",
       "    </tr>\n",
       "    <tr>\n",
       "      <th>1</th>\n",
       "      <td>https://www.reuters.com/article/us-filmfestiva...</td>\n",
       "      <td>Linklater's war veteran comedy speaks to moder...</td>\n",
       "      <td>LONDON (Reuters) - “Last Flag Flying”, a comed...</td>\n",
       "      <td>1</td>\n",
       "    </tr>\n",
       "    <tr>\n",
       "      <th>2</th>\n",
       "      <td>https://www.nytimes.com/2017/10/09/us/politics...</td>\n",
       "      <td>Trump’s Fight With Corker Jeopardizes His Legi...</td>\n",
       "      <td>The feud broke into public view last week when...</td>\n",
       "      <td>1</td>\n",
       "    </tr>\n",
       "    <tr>\n",
       "      <th>3</th>\n",
       "      <td>https://www.reuters.com/article/us-mexico-oil-...</td>\n",
       "      <td>Egypt's Cheiron wins tie-up with Pemex for Mex...</td>\n",
       "      <td>MEXICO CITY (Reuters) - Egypt’s Cheiron Holdin...</td>\n",
       "      <td>1</td>\n",
       "    </tr>\n",
       "    <tr>\n",
       "      <th>4</th>\n",
       "      <td>http://www.cnn.com/videos/cnnmoney/2017/10/08/...</td>\n",
       "      <td>Jason Aldean opens 'SNL' with Vegas tribute</td>\n",
       "      <td>Country singer Jason Aldean, who was performin...</td>\n",
       "      <td>1</td>\n",
       "    </tr>\n",
       "  </tbody>\n",
       "</table>\n",
       "</div>"
      ],
      "text/plain": [
       "                                                URLs  \\\n",
       "0  http://www.bbc.com/news/world-us-canada-414191...   \n",
       "1  https://www.reuters.com/article/us-filmfestiva...   \n",
       "2  https://www.nytimes.com/2017/10/09/us/politics...   \n",
       "3  https://www.reuters.com/article/us-mexico-oil-...   \n",
       "4  http://www.cnn.com/videos/cnnmoney/2017/10/08/...   \n",
       "\n",
       "                                            Headline  \\\n",
       "0         Four ways Bob Corker skewered Donald Trump   \n",
       "1  Linklater's war veteran comedy speaks to moder...   \n",
       "2  Trump’s Fight With Corker Jeopardizes His Legi...   \n",
       "3  Egypt's Cheiron wins tie-up with Pemex for Mex...   \n",
       "4        Jason Aldean opens 'SNL' with Vegas tribute   \n",
       "\n",
       "                                                Body  Label  \n",
       "0  Image copyright Getty Images\\nOn Sunday mornin...      1  \n",
       "1  LONDON (Reuters) - “Last Flag Flying”, a comed...      1  \n",
       "2  The feud broke into public view last week when...      1  \n",
       "3  MEXICO CITY (Reuters) - Egypt’s Cheiron Holdin...      1  \n",
       "4  Country singer Jason Aldean, who was performin...      1  "
      ]
     },
     "execution_count": 4,
     "metadata": {},
     "output_type": "execute_result"
    }
   ],
   "source": [
    "df.head()"
   ]
  },
  {
   "cell_type": "code",
   "execution_count": 5,
   "metadata": {
    "colab": {
     "base_uri": "https://localhost:8080/",
     "height": 35
    },
    "colab_type": "code",
    "collapsed": false,
    "executionInfo": {
     "elapsed": 9040,
     "status": "ok",
     "timestamp": 1555788833302,
     "user": {
      "displayName": "Yipin Lu",
      "photoUrl": "https://lh4.googleusercontent.com/-ZWbmL7r5muU/AAAAAAAAAAI/AAAAAAAAAAs/s5H67RZfL_s/s64/photo.jpg",
      "userId": "00076741457125381155"
     },
     "user_tz": -480
    },
    "id": "qmfYa6j7lnlr",
    "outputId": "342800da-0729-47ed-e684-3c45ec8e462a"
   },
   "outputs": [
    {
     "data": {
      "text/plain": [
       "4009"
      ]
     },
     "execution_count": 5,
     "metadata": {},
     "output_type": "execute_result"
    }
   ],
   "source": [
    "len(df)"
   ]
  },
  {
   "cell_type": "markdown",
   "metadata": {
    "colab_type": "text",
    "id": "HnHYia5ulnlu"
   },
   "source": [
    "## 3. Clean Data"
   ]
  },
  {
   "cell_type": "code",
   "execution_count": 6,
   "metadata": {
    "colab": {
     "base_uri": "https://localhost:8080/",
     "height": 53
    },
    "colab_type": "code",
    "collapsed": false,
    "executionInfo": {
     "elapsed": 860,
     "status": "ok",
     "timestamp": 1555796391104,
     "user": {
      "displayName": "Yipin Lu",
      "photoUrl": "https://lh4.googleusercontent.com/-ZWbmL7r5muU/AAAAAAAAAAI/AAAAAAAAAAs/s5H67RZfL_s/s64/photo.jpg",
      "userId": "00076741457125381155"
     },
     "user_tz": -480
    },
    "id": "dk18XZqIlnlv",
    "outputId": "0234267c-499a-4cf2-fd6f-4e85210a4ac0"
   },
   "outputs": [
    {
     "name": "stdout",
     "output_type": "stream",
     "text": [
      "[nltk_data] Downloading package stopwords to\n",
      "[nltk_data]     C:\\Users\\yipin\\AppData\\Roaming\\nltk_data...\n",
      "[nltk_data]   Package stopwords is already up-to-date!\n"
     ]
    }
   ],
   "source": [
    "wordnet = WordNetLemmatizer()\n",
    "nltk.download('stopwords')\n",
    "stop_words = set(stopwords.words('english'))\n",
    "\n",
    "def clean_doc(doc):\n",
    "    \n",
    "    # remove punctuation\n",
    "    doc = re.sub(r\"[\\s+\\.\\!\\/_,|%^*#(+\\\"\\')?<>:-]\", \" \", doc)\n",
    "    \n",
    "    # remove @\n",
    "    pattern2 = r\"@\\S+\"\n",
    "    doc = re.sub(pattern2, \"\", doc)\n",
    "\n",
    "    # tokenization\n",
    "    tokens = nltk.word_tokenize(doc)\n",
    "    \n",
    "    # lower words\n",
    "    tokens = [word.lower() for word in tokens]\n",
    "    \n",
    "    # remove stopwords\n",
    "    tokens = [w for w in tokens if not w in stop_words]\n",
    "    \n",
    "    # Return a cleaned string or list\n",
    "    return\" \".join(tokens)"
   ]
  },
  {
   "cell_type": "code",
   "execution_count": 7,
   "metadata": {
    "colab": {
     "base_uri": "https://localhost:8080/",
     "height": 89
    },
    "colab_type": "code",
    "collapsed": false,
    "executionInfo": {
     "elapsed": 752,
     "status": "ok",
     "timestamp": 1555796393755,
     "user": {
      "displayName": "Yipin Lu",
      "photoUrl": "https://lh4.googleusercontent.com/-ZWbmL7r5muU/AAAAAAAAAAI/AAAAAAAAAAs/s5H67RZfL_s/s64/photo.jpg",
      "userId": "00076741457125381155"
     },
     "user_tz": -480
    },
    "id": "7-zzHGmylnlx",
    "outputId": "2a0f90fe-a0ff-43d4-c5fa-029d31f6413b"
   },
   "outputs": [
    {
     "name": "stdout",
     "output_type": "stream",
     "text": [
      "The number of nan headlines is 0\n",
      "The number of nan bodies is 21\n",
      "The number of nan bodies is 0\n"
     ]
    },
    {
     "data": {
      "text/plain": [
       "3988"
      ]
     },
     "execution_count": 7,
     "metadata": {},
     "output_type": "execute_result"
    }
   ],
   "source": [
    "print(\"The number of nan headlines is\", df['Headline'].isna().sum())\n",
    "print(\"The number of nan bodies is\", df['Body'].isna().sum())\n",
    "print(\"The number of nan bodies is\", df['Label'].isna().sum())\n",
    "\n",
    "df = df.dropna(subset=[ 'Body'])\n",
    "len(df)"
   ]
  },
  {
   "cell_type": "code",
   "execution_count": 8,
   "metadata": {
    "colab": {
     "base_uri": "https://localhost:8080/",
     "height": 53
    },
    "colab_type": "code",
    "collapsed": false,
    "executionInfo": {
     "elapsed": 12316,
     "status": "ok",
     "timestamp": 1555796408078,
     "user": {
      "displayName": "Yipin Lu",
      "photoUrl": "https://lh4.googleusercontent.com/-ZWbmL7r5muU/AAAAAAAAAAI/AAAAAAAAAAs/s5H67RZfL_s/s64/photo.jpg",
      "userId": "00076741457125381155"
     },
     "user_tz": -480
    },
    "id": "P71yn4WOlnl0",
    "outputId": "7b2e1e9d-e2f6-4205-ff7b-58ac5f56d4dd"
   },
   "outputs": [
    {
     "name": "stdout",
     "output_type": "stream",
     "text": [
      "[nltk_data] Downloading package punkt to\n",
      "[nltk_data]     C:\\Users\\yipin\\AppData\\Roaming\\nltk_data...\n",
      "[nltk_data]   Package punkt is already up-to-date!\n"
     ]
    }
   ],
   "source": [
    "nltk.download('punkt')\n",
    "df['Headline_clean'] = df['Headline'].apply(lambda x: clean_doc(x))\n",
    "df['Body_clean'] = df['Body'].apply(lambda x: clean_doc(x))"
   ]
  },
  {
   "cell_type": "markdown",
   "metadata": {
    "colab_type": "text",
    "id": "c2GBKHjPlnl2"
   },
   "source": [
    "## 4. Text Vectorization"
   ]
  },
  {
   "cell_type": "code",
   "execution_count": 9,
   "metadata": {
    "colab": {},
    "colab_type": "code",
    "collapsed": true,
    "id": "yGkc1R6_lnl3"
   },
   "outputs": [],
   "source": [
    "corpus = pd.concat([df['Headline_clean'], df['Body_clean']])\n",
    "MAX_FEATURES = 10000\n",
    "\n",
    "#Assign the type of vectorizer\n",
    "VECTORIZER = 'tfidf'\n",
    "\n",
    "from sklearn.feature_extraction.text import TfidfVectorizer\n",
    "def fit_tfidf(documents):\n",
    "    tfidf = TfidfVectorizer(input = 'content', stop_words = 'english',  \n",
    "                            max_features = MAX_FEATURES )\n",
    "    tfidf.fit(documents.values)\n",
    "    return tfidf\n",
    "\n",
    "from sklearn.feature_extraction.text import CountVectorizer\n",
    "def fit_bow(documents):\n",
    "    bow = CountVectorizer(input='content', stop_words='english',\n",
    "                          max_features = MAX_FEATURES)\n",
    "    bow.fit(documents.values)\n",
    "    return bow\n",
    "\n",
    "if VECTORIZER == 'tfidf':\n",
    "    vectorizer = fit_tfidf(corpus)\n",
    "\n",
    "elif VECTORIZER == 'bow':\n",
    "    vertorizer = fit_bow(corpus)\n",
    "\n",
    "headline_matrix = vectorizer.transform(df['Headline_clean'])\n",
    "body_matrix = vectorizer.transform(df['Body_clean'])"
   ]
  },
  {
   "cell_type": "code",
   "execution_count": 10,
   "metadata": {
    "colab": {
     "base_uri": "https://localhost:8080/",
     "height": 53
    },
    "colab_type": "code",
    "collapsed": false,
    "executionInfo": {
     "elapsed": 799,
     "status": "ok",
     "timestamp": 1555789688171,
     "user": {
      "displayName": "Yipin Lu",
      "photoUrl": "https://lh4.googleusercontent.com/-ZWbmL7r5muU/AAAAAAAAAAI/AAAAAAAAAAs/s5H67RZfL_s/s64/photo.jpg",
      "userId": "00076741457125381155"
     },
     "user_tz": -480
    },
    "id": "ymDx_ballnl6",
    "outputId": "bdab2286-818c-4a40-d99a-41a6e5b4aac2"
   },
   "outputs": [
    {
     "data": {
      "text/plain": [
       "<3988x10000 sparse matrix of type '<class 'numpy.float64'>'\n",
       "\twith 599965 stored elements in Compressed Sparse Row format>"
      ]
     },
     "execution_count": 10,
     "metadata": {},
     "output_type": "execute_result"
    }
   ],
   "source": [
    "body_matrix"
   ]
  },
  {
   "cell_type": "markdown",
   "metadata": {
    "colab_type": "text",
    "id": "_OcHjci_lnl-"
   },
   "source": [
    "## 5. Split the Dataset to Training and Testing Dataset"
   ]
  },
  {
   "cell_type": "code",
   "execution_count": 11,
   "metadata": {
    "colab": {},
    "colab_type": "code",
    "collapsed": true,
    "id": "1vXioOCMlnl-"
   },
   "outputs": [],
   "source": [
    "from sklearn.model_selection import train_test_split\n",
    "from scipy.sparse import coo_matrix, hstack\n",
    "X = hstack([headline_matrix, body_matrix]).toarray()\n",
    "#X = np.concatenate((headline_matrix, body_matrix), axis=1)\n",
    "y = df.Label\n",
    "X_train, X_test, y_train, y_test = train_test_split( X, y, test_size=0.25, random_state=42)"
   ]
  },
  {
   "cell_type": "markdown",
   "metadata": {
    "colab_type": "text",
    "id": "bnn0ajR3lnmA"
   },
   "source": [
    "## 6. Baseline Model Naive Bayes"
   ]
  },
  {
   "cell_type": "code",
   "execution_count": 12,
   "metadata": {
    "colab": {
     "base_uri": "https://localhost:8080/",
     "height": 35
    },
    "colab_type": "code",
    "collapsed": false,
    "executionInfo": {
     "elapsed": 783,
     "status": "ok",
     "timestamp": 1555796484761,
     "user": {
      "displayName": "Yipin Lu",
      "photoUrl": "https://lh4.googleusercontent.com/-ZWbmL7r5muU/AAAAAAAAAAI/AAAAAAAAAAs/s5H67RZfL_s/s64/photo.jpg",
      "userId": "00076741457125381155"
     },
     "user_tz": -480
    },
    "id": "m-0Ix_eqlnmB",
    "outputId": "e8d77053-6b66-4a38-a10f-5c036e6905ff"
   },
   "outputs": [
    {
     "name": "stdout",
     "output_type": "stream",
     "text": [
      "The accuracy for testing data is 0.9388164493480441\n",
      "The accuracy for training data is 0.9739217652958877\n"
     ]
    }
   ],
   "source": [
    "from sklearn.naive_bayes import MultinomialNB\n",
    "##--Multinomial Naive Bayes Model\n",
    "clf = MultinomialNB().fit(X_train,  y_train)\n",
    "prediction = clf.predict(X_test)\n",
    "print(\"The accuracy for testing data is\", np.mean(prediction == y_test) )\n",
    "print(\"The accuracy for training data is\", np.mean(clf.predict(X_train) == y_train) )"
   ]
  },
  {
   "cell_type": "markdown",
   "metadata": {
    "colab_type": "text",
    "id": "zukAk4VGlnmF"
   },
   "source": [
    "## 7. Grid Search for SVM (The result might be slightly different for different runing instances)"
   ]
  },
  {
   "cell_type": "code",
   "execution_count": 13,
   "metadata": {
    "colab": {
     "base_uri": "https://localhost:8080/",
     "height": 35
    },
    "colab_type": "code",
    "collapsed": false,
    "executionInfo": {
     "elapsed": 74537,
     "status": "ok",
     "timestamp": 1555790932912,
     "user": {
      "displayName": "Yipin Lu",
      "photoUrl": "https://lh4.googleusercontent.com/-ZWbmL7r5muU/AAAAAAAAAAI/AAAAAAAAAAs/s5H67RZfL_s/s64/photo.jpg",
      "userId": "00076741457125381155"
     },
     "user_tz": -480
    },
    "id": "kX8yz5ZrlnmG",
    "outputId": "6a0b0975-16c2-4976-b0a3-93018e500d1d"
   },
   "outputs": [
    {
     "name": "stdout",
     "output_type": "stream",
     "text": [
      "Best parameters are:  {'alpha': 0.001, 'penalty': 'l2', 'max_iter': 10, 'loss': 'hinge'}\n"
     ]
    }
   ],
   "source": [
    "from sklearn.model_selection import GridSearchCV\n",
    "from sklearn.linear_model import SGDClassifier\n",
    "param_grid =  {'loss': ['hinge', 'squared_loss'], 'penalty': ['l2','l1'],\n",
    "       'alpha':[0.01,0.001],'max_iter':[10]}\n",
    "\n",
    "clf2 = GridSearchCV(SGDClassifier(), param_grid)\n",
    "clf2.fit(X_train, y_train)\n",
    "print(\"Best parameters are: \", clf2.best_params_)"
   ]
  },
  {
   "cell_type": "code",
   "execution_count": 14,
   "metadata": {
    "colab": {
     "base_uri": "https://localhost:8080/",
     "height": 233
    },
    "colab_type": "code",
    "collapsed": false,
    "executionInfo": {
     "elapsed": 765,
     "status": "ok",
     "timestamp": 1555790941927,
     "user": {
      "displayName": "Yipin Lu",
      "photoUrl": "https://lh4.googleusercontent.com/-ZWbmL7r5muU/AAAAAAAAAAI/AAAAAAAAAAs/s5H67RZfL_s/s64/photo.jpg",
      "userId": "00076741457125381155"
     },
     "user_tz": -480
    },
    "id": "qsnBD8pUlnmJ",
    "outputId": "10ee0cf9-dd67-4a55-8d56-3f5d7a3e7c90"
   },
   "outputs": [
    {
     "name": "stdout",
     "output_type": "stream",
     "text": [
      "The classification report is:\n",
      "             precision    recall  f1-score   support\n",
      "\n",
      "          0       0.99      0.96      0.98       560\n",
      "          1       0.95      0.99      0.97       437\n",
      "\n",
      "avg / total       0.97      0.97      0.97       997\n",
      "\n",
      "The accuracy for testing data is 0.9729187562688064\n",
      "The accuracy for training data is 0.9983283182881979\n"
     ]
    }
   ],
   "source": [
    "from sklearn.metrics import classification_report \n",
    "y_pred = clf2.predict(X_test)\n",
    "print(\"The classification report is:\")\n",
    "print(classification_report(y_test, y_pred))\n",
    "\n",
    "print(\"The accuracy for testing data is\", np.mean(y_pred == y_test) )\n",
    "print(\"The accuracy for training data is\", np.mean(clf2.predict(X_train) == y_train) )"
   ]
  }
 ],
 "metadata": {
  "anaconda-cloud": {},
  "colab": {
   "name": "NB_SVM.ipynb",
   "provenance": [],
   "toc_visible": true,
   "version": "0.3.2"
  },
  "kernelspec": {
   "display_name": "Python [default]",
   "language": "python",
   "name": "python3"
  },
  "language_info": {
   "codemirror_mode": {
    "name": "ipython",
    "version": 3
   },
   "file_extension": ".py",
   "mimetype": "text/x-python",
   "name": "python",
   "nbconvert_exporter": "python",
   "pygments_lexer": "ipython3",
   "version": "3.5.2"
  }
 },
 "nbformat": 4,
 "nbformat_minor": 1
}
