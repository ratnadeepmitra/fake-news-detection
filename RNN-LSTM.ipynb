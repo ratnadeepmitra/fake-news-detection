{
 "cells": [
  {
   "cell_type": "markdown",
   "metadata": {},
   "source": [
    "### Import libraries (might not need all of them)"
   ]
  },
  {
   "cell_type": "code",
   "execution_count": 1,
   "metadata": {},
   "outputs": [],
   "source": [
    "import tensorflow as tf\n",
    "import numpy as np\n",
    "%matplotlib inline\n",
    "from matplotlib import pyplot as plt\n",
    "from IPython.display import SVG, display\n",
    "import re, os\n",
    "from string import printable\n",
    "import string\n",
    "from string import punctuation\n",
    "import pandas as pd\n",
    "from sklearn.utils import shuffle\n",
    "from sklearn import model_selection\n",
    "from sklearn.model_selection import train_test_split\n",
    "import warnings\n",
    "warnings.filterwarnings(\"ignore\")\n",
    "from pathlib import Path\n",
    "import json\n",
    "from tensorflow.python.client import device_lib\n",
    "from PIL import Image\n",
    "import copy\n",
    "\n",
    "\n",
    "import nltk\n",
    "#nltk.download('stopwords')\n",
    "#nltk.download('punkt')\n",
    "from nltk.corpus import wordnet as wn\n",
    "from nltk.corpus import stopwords\n",
    "from nltk.stem.wordnet import WordNetLemmatizer\n",
    "\n",
    "#py.init_notebook_mode(connected=True)\n",
    "\n",
    "# For reproducibility\n",
    "np.random.seed(123)"
   ]
  },
  {
   "cell_type": "markdown",
   "metadata": {},
   "source": [
    "### Import Keras libraries (Might not need all of them)"
   ]
  },
  {
   "cell_type": "code",
   "execution_count": 2,
   "metadata": {},
   "outputs": [
    {
     "name": "stderr",
     "output_type": "stream",
     "text": [
      "Using TensorFlow backend.\n"
     ]
    }
   ],
   "source": [
    "import keras\n",
    "from keras.models import  Sequential, Model, model_from_json, load_model\n",
    "from keras import regularizers\n",
    "from keras import backend as K\n",
    "from keras.preprocessing import sequence\n",
    "from keras.layers.core import Dense, Dropout, Activation, Lambda, Flatten, Reshape\n",
    "from keras.optimizers import SGD, Adam, RMSprop\n",
    "from keras.utils import np_utils\n",
    "from keras.regularizers import l2\n",
    "from keras.layers import Input, LSTM, Embedding, BatchNormalization, MaxPooling1D, concatenate, Dense\n",
    "from keras.layers.convolutional import Conv2D, MaxPooling2D, ZeroPadding2D, AveragePooling2D\n",
    "from keras.callbacks import EarlyStopping\n",
    "from keras.preprocessing.text import Tokenizer\n",
    "from keras.preprocessing.image import ImageDataGenerator\n",
    "from keras.layers.normalization import BatchNormalization\n",
    "from keras import backend as K\n",
    "from keras.layers import Bidirectional, SimpleRNN\n",
    "from keras.utils.vis_utils import model_to_dot\n",
    "from keras.callbacks import TensorBoard, ModelCheckpoint"
   ]
  },
  {
   "cell_type": "markdown",
   "metadata": {},
   "source": [
    "### Read data, Preprocess"
   ]
  },
  {
   "cell_type": "code",
   "execution_count": 3,
   "metadata": {},
   "outputs": [],
   "source": [
    "df = pd.read_csv(\"fake-news-detection\\data.csv\", sep=',')"
   ]
  },
  {
   "cell_type": "code",
   "execution_count": 4,
   "metadata": {},
   "outputs": [
    {
     "data": {
      "text/plain": [
       "(4009, 4)"
      ]
     },
     "execution_count": 4,
     "metadata": {},
     "output_type": "execute_result"
    }
   ],
   "source": [
    "df.shape"
   ]
  },
  {
   "cell_type": "code",
   "execution_count": 5,
   "metadata": {},
   "outputs": [
    {
     "data": {
      "text/plain": [
       "21"
      ]
     },
     "execution_count": 5,
     "metadata": {},
     "output_type": "execute_result"
    }
   ],
   "source": [
    "df['Body'].isnull().sum()"
   ]
  },
  {
   "cell_type": "code",
   "execution_count": 6,
   "metadata": {},
   "outputs": [],
   "source": [
    "df = df[pd.notnull(df['Body'])]"
   ]
  },
  {
   "cell_type": "code",
   "execution_count": 7,
   "metadata": {},
   "outputs": [
    {
     "data": {
      "text/plain": [
       "(3988, 4)"
      ]
     },
     "execution_count": 7,
     "metadata": {},
     "output_type": "execute_result"
    }
   ],
   "source": [
    "df.shape"
   ]
  },
  {
   "cell_type": "code",
   "execution_count": 8,
   "metadata": {},
   "outputs": [],
   "source": [
    "wordnet = WordNetLemmatizer()\n",
    "stop_words = set(stopwords.words('english'))"
   ]
  },
  {
   "cell_type": "code",
   "execution_count": 9,
   "metadata": {},
   "outputs": [],
   "source": [
    "def clean_doc(doc, remove_stopwords= True, output_format=\"string\"):\n",
    "    \n",
    "    doc = re.sub('_', ' ', doc)\n",
    "    \n",
    "    # remove punctuation\n",
    "    doc = re.sub(r\"[\\s+\\.\\!\\/_,|%^*#(+\\\"\\')?<>:-]\", \" \", doc)\n",
    "    \n",
    "    # remove @\n",
    "    pattern2 = r\"@\\S+\"\n",
    "    doc = re.sub(pattern2, \"\", doc)\n",
    "    \n",
    "    # split into tokens by white space\n",
    "    tokens = nltk.word_tokenize(doc)\n",
    "    \n",
    "    # remove remaining tokens that are not alphabetic\n",
    "    tokens = [word.lower() for word in tokens]\n",
    "    \n",
    "    # filter out stop words\n",
    "    tokens = [w for w in tokens if not w in stop_words]\n",
    "    # Return a cleaned string or list\n",
    "    return\" \".join(tokens)"
   ]
  },
  {
   "cell_type": "code",
   "execution_count": 10,
   "metadata": {},
   "outputs": [],
   "source": [
    "df['CleanBody'] = df['Body'].apply(clean_doc)"
   ]
  },
  {
   "cell_type": "code",
   "execution_count": 11,
   "metadata": {},
   "outputs": [
    {
     "data": {
      "text/plain": [
       "['URLs', 'Headline', 'Body', 'Label', 'CleanBody']"
      ]
     },
     "execution_count": 11,
     "metadata": {},
     "output_type": "execute_result"
    }
   ],
   "source": [
    "list(df)"
   ]
  },
  {
   "cell_type": "code",
   "execution_count": 12,
   "metadata": {},
   "outputs": [
    {
     "data": {
      "text/html": [
       "<div>\n",
       "<style scoped>\n",
       "    .dataframe tbody tr th:only-of-type {\n",
       "        vertical-align: middle;\n",
       "    }\n",
       "\n",
       "    .dataframe tbody tr th {\n",
       "        vertical-align: top;\n",
       "    }\n",
       "\n",
       "    .dataframe thead th {\n",
       "        text-align: right;\n",
       "    }\n",
       "</style>\n",
       "<table border=\"1\" class=\"dataframe\">\n",
       "  <thead>\n",
       "    <tr style=\"text-align: right;\">\n",
       "      <th></th>\n",
       "      <th>Label</th>\n",
       "      <th>counts</th>\n",
       "    </tr>\n",
       "  </thead>\n",
       "  <tbody>\n",
       "    <tr>\n",
       "      <th>0</th>\n",
       "      <td>0</td>\n",
       "      <td>2120</td>\n",
       "    </tr>\n",
       "    <tr>\n",
       "      <th>1</th>\n",
       "      <td>1</td>\n",
       "      <td>1868</td>\n",
       "    </tr>\n",
       "  </tbody>\n",
       "</table>\n",
       "</div>"
      ],
      "text/plain": [
       "   Label  counts\n",
       "0      0    2120\n",
       "1      1    1868"
      ]
     },
     "execution_count": 12,
     "metadata": {},
     "output_type": "execute_result"
    }
   ],
   "source": [
    "dist = df.groupby(['Label']).size().reset_index(name='counts')\n",
    "dist"
   ]
  },
  {
   "cell_type": "code",
   "execution_count": 13,
   "metadata": {},
   "outputs": [],
   "source": [
    "df1 = df[['CleanBody','Label']]"
   ]
  },
  {
   "cell_type": "code",
   "execution_count": 14,
   "metadata": {},
   "outputs": [
    {
     "data": {
      "text/plain": [
       "['CleanBody', 'Label']"
      ]
     },
     "execution_count": 14,
     "metadata": {},
     "output_type": "execute_result"
    }
   ],
   "source": [
    "list(df1)"
   ]
  },
  {
   "cell_type": "code",
   "execution_count": 15,
   "metadata": {},
   "outputs": [
    {
     "data": {
      "text/plain": [
       "(3988, 2)"
      ]
     },
     "execution_count": 15,
     "metadata": {},
     "output_type": "execute_result"
    }
   ],
   "source": [
    "df1.shape"
   ]
  },
  {
   "cell_type": "markdown",
   "metadata": {},
   "source": [
    "### Build model using simple LSTM"
   ]
  },
  {
   "cell_type": "code",
   "execution_count": 16,
   "metadata": {},
   "outputs": [],
   "source": [
    "# Convert raw string in list of lists where characters that are contained in \"printable\" \n",
    "# are stored encoded as integer \n",
    "tw_int_tokens = [[printable.index(x) + 1 for x in tweet if x in printable] for tweet in df1.CleanBody]"
   ]
  },
  {
   "cell_type": "code",
   "execution_count": 17,
   "metadata": {},
   "outputs": [],
   "source": [
    "# Cut tweet string at max_len or pad with zeros if shorter\n",
    "max_len=10000\n",
    "X = sequence.pad_sequences(tw_int_tokens, maxlen=max_len)"
   ]
  },
  {
   "cell_type": "code",
   "execution_count": 18,
   "metadata": {},
   "outputs": [],
   "source": [
    "# Extract labels form df to numpy array\n",
    "target = np.array(df1.Label)"
   ]
  },
  {
   "cell_type": "code",
   "execution_count": 19,
   "metadata": {},
   "outputs": [
    {
     "name": "stdout",
     "output_type": "stream",
     "text": [
      "Matrix dimensions of X:  (3988, 10000) Vector dimension of target:  (3988,)\n"
     ]
    }
   ],
   "source": [
    "print('Matrix dimensions of X: ', X.shape, 'Vector dimension of target: ', target.shape)"
   ]
  },
  {
   "cell_type": "code",
   "execution_count": 20,
   "metadata": {},
   "outputs": [],
   "source": [
    "# Simple Cross-Validation: Split the data set into training and test data\n",
    "x_train, x_test, y_train, y_test = model_selection.train_test_split(X, target, test_size=0.25, random_state=33)"
   ]
  },
  {
   "cell_type": "code",
   "execution_count": 21,
   "metadata": {},
   "outputs": [],
   "source": [
    "y_train = tf.keras.utils.to_categorical(y_train, 2)\n",
    "y_test = tf.keras.utils.to_categorical(y_test, 2)"
   ]
  },
  {
   "cell_type": "code",
   "execution_count": 22,
   "metadata": {},
   "outputs": [],
   "source": [
    "## Simple LSTM\n",
    "\n",
    "max_len=10000\n",
    "emb_dim=32\n",
    "max_vocab_len=7000\n",
    "lstm_output_size=32\n",
    "W_reg=regularizers.l2(1e-4)\n",
    "\n",
    "# Input\n",
    "main_input = Input(shape=(max_len,), dtype='int32', name='main_input')\n",
    "\n",
    "# Embedding layer\n",
    "emb = Embedding(input_dim=max_vocab_len, output_dim=emb_dim, input_length=max_len,\n",
    "                dropout=0.2, W_regularizer=W_reg)(main_input) \n",
    "\n",
    "# LSTM layer\n",
    "lstm = LSTM(lstm_output_size)(emb)\n",
    "lstm = Dropout(0.5)(lstm)\n",
    "lstm = Dropout(0.5)(lstm)\n",
    "        \n",
    "\n",
    "# Output layer (last fully connected layer)\n",
    "output = Dense(2, activation='sigmoid', name='output')(lstm)\n",
    "\n",
    "\n",
    "# Compile model and define optimizer\n",
    "model = Model(input=[main_input], output=[output])\n",
    "adam = Adam(lr=1e-4, beta_1=0.9, beta_2=0.999, epsilon=1e-08, decay=0.0)\n",
    "model.compile(optimizer=adam, loss='binary_crossentropy', metrics=['accuracy'])"
   ]
  },
  {
   "cell_type": "code",
   "execution_count": 23,
   "metadata": {},
   "outputs": [
    {
     "name": "stdout",
     "output_type": "stream",
     "text": [
      "_________________________________________________________________\n",
      "Layer (type)                 Output Shape              Param #   \n",
      "=================================================================\n",
      "main_input (InputLayer)      (None, 10000)             0         \n",
      "_________________________________________________________________\n",
      "embedding_1 (Embedding)      (None, 10000, 32)         224000    \n",
      "_________________________________________________________________\n",
      "lstm_1 (LSTM)                (None, 32)                8320      \n",
      "_________________________________________________________________\n",
      "dropout_1 (Dropout)          (None, 32)                0         \n",
      "_________________________________________________________________\n",
      "dropout_2 (Dropout)          (None, 32)                0         \n",
      "_________________________________________________________________\n",
      "output (Dense)               (None, 2)                 66        \n",
      "=================================================================\n",
      "Total params: 232,386\n",
      "Trainable params: 232,386\n",
      "Non-trainable params: 0\n",
      "_________________________________________________________________\n"
     ]
    }
   ],
   "source": [
    "model.summary()"
   ]
  },
  {
   "cell_type": "code",
   "execution_count": 24,
   "metadata": {},
   "outputs": [],
   "source": [
    "batch_size = 100\n",
    "num_epochs = 100"
   ]
  },
  {
   "cell_type": "code",
   "execution_count": 25,
   "metadata": {},
   "outputs": [
    {
     "name": "stdout",
     "output_type": "stream",
     "text": [
      "Train on 2243 samples, validate on 748 samples\n",
      "Epoch 1/100\n",
      "2243/2243 [==============================] - 173s 77ms/step - loss: 0.7110 - acc: 0.4920 - val_loss: 0.7093 - val_acc: 0.5214\n",
      "Epoch 2/100\n",
      "2243/2243 [==============================] - 222s 99ms/step - loss: 0.7080 - acc: 0.5163 - val_loss: 0.7067 - val_acc: 0.5615\n",
      "Epoch 3/100\n",
      "2243/2243 [==============================] - 269s 120ms/step - loss: 0.7057 - acc: 0.5386 - val_loss: 0.7044 - val_acc: 0.5414\n",
      "Epoch 4/100\n",
      "2243/2243 [==============================] - 289s 129ms/step - loss: 0.7032 - acc: 0.5410 - val_loss: 0.7023 - val_acc: 0.5414\n",
      "Epoch 5/100\n",
      "2243/2243 [==============================] - 301s 134ms/step - loss: 0.7012 - acc: 0.5490 - val_loss: 0.7003 - val_acc: 0.5328\n",
      "Epoch 6/100\n",
      "2243/2243 [==============================] - 318s 142ms/step - loss: 0.6996 - acc: 0.5486 - val_loss: 0.6986 - val_acc: 0.5314\n",
      "Epoch 7/100\n",
      "2243/2243 [==============================] - 346s 154ms/step - loss: 0.6979 - acc: 0.5481 - val_loss: 0.6970 - val_acc: 0.5321\n",
      "Epoch 8/100\n",
      "2243/2243 [==============================] - 345s 154ms/step - loss: 0.6962 - acc: 0.5490 - val_loss: 0.6955 - val_acc: 0.5321\n",
      "Epoch 9/100\n",
      "2243/2243 [==============================] - 11326s 5s/step - loss: 0.6948 - acc: 0.5484 - val_loss: 0.6940 - val_acc: 0.5321\n",
      "Epoch 10/100\n",
      "2243/2243 [==============================] - 424s 189ms/step - loss: 0.6933 - acc: 0.5421 - val_loss: 0.6925 - val_acc: 0.5321\n",
      "Epoch 11/100\n",
      "2243/2243 [==============================] - 426s 190ms/step - loss: 0.6918 - acc: 0.5486 - val_loss: 0.6910 - val_acc: 0.5321\n",
      "Epoch 12/100\n",
      "2243/2243 [==============================] - 407s 182ms/step - loss: 0.6905 - acc: 0.5479 - val_loss: 0.6895 - val_acc: 0.5328\n",
      "Epoch 13/100\n",
      "2243/2243 [==============================] - 326s 145ms/step - loss: 0.6888 - acc: 0.5412 - val_loss: 0.6878 - val_acc: 0.5328\n",
      "Epoch 14/100\n",
      "2243/2243 [==============================] - 320s 143ms/step - loss: 0.6862 - acc: 0.5435 - val_loss: 0.6856 - val_acc: 0.5328\n",
      "Epoch 15/100\n",
      "2243/2243 [==============================] - 321s 143ms/step - loss: 0.6848 - acc: 0.5417 - val_loss: 0.6831 - val_acc: 0.5328\n",
      "Epoch 16/100\n",
      "2243/2243 [==============================] - 333s 148ms/step - loss: 0.6820 - acc: 0.5461 - val_loss: 0.6799 - val_acc: 0.5361\n",
      "Epoch 17/100\n",
      "2243/2243 [==============================] - 323s 144ms/step - loss: 0.6933 - acc: 0.5368 - val_loss: 0.6739 - val_acc: 0.5461\n",
      "Epoch 18/100\n",
      "2243/2243 [==============================] - 334s 149ms/step - loss: 0.6750 - acc: 0.6010 - val_loss: 0.6753 - val_acc: 0.6197\n",
      "Epoch 19/100\n",
      "2243/2243 [==============================] - 298s 133ms/step - loss: 0.6739 - acc: 0.6190 - val_loss: 0.6733 - val_acc: 0.6116\n",
      "Epoch 20/100\n",
      "2243/2243 [==============================] - 332s 148ms/step - loss: 0.6718 - acc: 0.6030 - val_loss: 0.6708 - val_acc: 0.6043\n",
      "Epoch 21/100\n",
      "2243/2243 [==============================] - 323s 144ms/step - loss: 0.6690 - acc: 0.5952 - val_loss: 0.6678 - val_acc: 0.5943\n",
      "Epoch 22/100\n",
      "2243/2243 [==============================] - 348s 155ms/step - loss: 0.6674 - acc: 0.5789 - val_loss: 0.6645 - val_acc: 0.5882\n",
      "Epoch 23/100\n",
      "2243/2243 [==============================] - 345s 154ms/step - loss: 0.6639 - acc: 0.5720 - val_loss: 0.6533 - val_acc: 0.5735\n",
      "Epoch 24/100\n",
      "2243/2243 [==============================] - 331s 148ms/step - loss: 0.6523 - acc: 0.5571 - val_loss: 0.6145 - val_acc: 0.5528\n",
      "Epoch 25/100\n",
      "2243/2243 [==============================] - 333s 149ms/step - loss: 0.6370 - acc: 0.5653 - val_loss: 0.6084 - val_acc: 0.5949\n",
      "Epoch 26/100\n",
      "2243/2243 [==============================] - 336s 150ms/step - loss: 0.6301 - acc: 0.5990 - val_loss: 0.5845 - val_acc: 0.6076\n",
      "Epoch 27/100\n",
      "2243/2243 [==============================] - 310s 138ms/step - loss: 0.6175 - acc: 0.6402 - val_loss: 0.6235 - val_acc: 0.6845\n",
      "Epoch 28/100\n",
      "2243/2243 [==============================] - 324s 145ms/step - loss: 0.6258 - acc: 0.6844 - val_loss: 0.5941 - val_acc: 0.6584\n",
      "Epoch 29/100\n",
      "2243/2243 [==============================] - 324s 145ms/step - loss: 0.6035 - acc: 0.6498 - val_loss: 0.5592 - val_acc: 0.6477\n",
      "Epoch 30/100\n",
      "2243/2243 [==============================] - 337s 150ms/step - loss: 0.5937 - acc: 0.6692 - val_loss: 0.5572 - val_acc: 0.7045\n",
      "Epoch 31/100\n",
      "2243/2243 [==============================] - 331s 148ms/step - loss: 0.5874 - acc: 0.7084 - val_loss: 0.5410 - val_acc: 0.7132\n",
      "Epoch 32/100\n",
      "2243/2243 [==============================] - 304s 135ms/step - loss: 0.9983 - acc: 0.5584 - val_loss: 1.0136 - val_acc: 0.5321\n",
      "Epoch 33/100\n",
      "2243/2243 [==============================] - 297s 133ms/step - loss: 0.8700 - acc: 0.5872 - val_loss: 0.5544 - val_acc: 0.7226\n",
      "Epoch 34/100\n",
      "2243/2243 [==============================] - 297s 133ms/step - loss: 0.5921 - acc: 0.7222 - val_loss: 0.5756 - val_acc: 0.7380\n",
      "Epoch 35/100\n",
      "2243/2243 [==============================] - 307s 137ms/step - loss: 0.5903 - acc: 0.7220 - val_loss: 0.5600 - val_acc: 0.7353\n",
      "Epoch 36/100\n",
      "2243/2243 [==============================] - 306s 136ms/step - loss: 0.5842 - acc: 0.7171 - val_loss: 0.5472 - val_acc: 0.7259\n",
      "Epoch 37/100\n",
      "2243/2243 [==============================] - 326s 145ms/step - loss: 0.5773 - acc: 0.7193 - val_loss: 0.5430 - val_acc: 0.7259\n",
      "Epoch 38/100\n",
      "2243/2243 [==============================] - 322s 144ms/step - loss: 0.5763 - acc: 0.7256 - val_loss: 0.5397 - val_acc: 0.7346\n",
      "Epoch 39/100\n",
      "2243/2243 [==============================] - 320s 143ms/step - loss: 0.5764 - acc: 0.7238 - val_loss: 0.5367 - val_acc: 0.7360\n",
      "Epoch 40/100\n",
      "2243/2243 [==============================] - 34168s 15s/step - loss: 0.5740 - acc: 0.7263 - val_loss: 0.5345 - val_acc: 0.7433\n",
      "Epoch 41/100\n",
      "2243/2243 [==============================] - 348s 155ms/step - loss: 0.5706 - acc: 0.7334 - val_loss: 0.5314 - val_acc: 0.7400\n",
      "Epoch 42/100\n",
      "2243/2243 [==============================] - 374s 167ms/step - loss: 0.5682 - acc: 0.7325 - val_loss: 0.5291 - val_acc: 0.7426\n",
      "Epoch 43/100\n",
      "2243/2243 [==============================] - 433s 193ms/step - loss: 0.5620 - acc: 0.7323 - val_loss: 0.5264 - val_acc: 0.7493\n",
      "Epoch 44/100\n",
      "2243/2243 [==============================] - 452s 201ms/step - loss: 0.5669 - acc: 0.7352 - val_loss: 0.5247 - val_acc: 0.7560\n",
      "Epoch 45/100\n",
      "2243/2243 [==============================] - 436s 194ms/step - loss: 0.5620 - acc: 0.7419 - val_loss: 0.5211 - val_acc: 0.7560\n",
      "Epoch 46/100\n",
      "2243/2243 [==============================] - 430s 192ms/step - loss: 0.5617 - acc: 0.7396 - val_loss: 0.5205 - val_acc: 0.7587\n",
      "Epoch 47/100\n",
      "2243/2243 [==============================] - 416s 186ms/step - loss: 0.5577 - acc: 0.7439 - val_loss: 0.5184 - val_acc: 0.7627\n",
      "Epoch 48/100\n",
      "2243/2243 [==============================] - 449s 200ms/step - loss: 0.5607 - acc: 0.7383 - val_loss: 0.5184 - val_acc: 0.7727\n",
      "Epoch 49/100\n",
      "2243/2243 [==============================] - 433s 193ms/step - loss: 0.5566 - acc: 0.7468 - val_loss: 0.5140 - val_acc: 0.7680\n",
      "Epoch 50/100\n",
      "2243/2243 [==============================] - 354s 158ms/step - loss: 0.5507 - acc: 0.7454 - val_loss: 0.5111 - val_acc: 0.7707\n",
      "Epoch 51/100\n",
      "2243/2243 [==============================] - 325s 145ms/step - loss: 0.5520 - acc: 0.7501 - val_loss: 0.5083 - val_acc: 0.7694\n",
      "Epoch 52/100\n",
      "2243/2243 [==============================] - 330s 147ms/step - loss: 0.5507 - acc: 0.7517 - val_loss: 0.5081 - val_acc: 0.7687\n",
      "Epoch 53/100\n",
      "2243/2243 [==============================] - 350s 156ms/step - loss: 0.5462 - acc: 0.7512 - val_loss: 0.5054 - val_acc: 0.7701\n",
      "Epoch 54/100\n",
      "2243/2243 [==============================] - 347s 155ms/step - loss: 0.5469 - acc: 0.7530 - val_loss: 0.5032 - val_acc: 0.7727\n",
      "Epoch 55/100\n",
      "2243/2243 [==============================] - 346s 154ms/step - loss: 0.5495 - acc: 0.7521 - val_loss: 0.5015 - val_acc: 0.7734\n",
      "Epoch 56/100\n",
      "2243/2243 [==============================] - 352s 157ms/step - loss: 0.5430 - acc: 0.7501 - val_loss: 0.4994 - val_acc: 0.7761\n",
      "Epoch 57/100\n",
      "2243/2243 [==============================] - 356s 159ms/step - loss: 0.5487 - acc: 0.7557 - val_loss: 0.4975 - val_acc: 0.7761\n",
      "Epoch 58/100\n",
      "2243/2243 [==============================] - 356s 159ms/step - loss: 0.5388 - acc: 0.7570 - val_loss: 0.4947 - val_acc: 0.7828\n",
      "Epoch 59/100\n"
     ]
    },
    {
     "name": "stdout",
     "output_type": "stream",
     "text": [
      "2243/2243 [==============================] - 355s 158ms/step - loss: 0.5378 - acc: 0.7570 - val_loss: 0.4925 - val_acc: 0.7834\n",
      "Epoch 60/100\n",
      "2243/2243 [==============================] - 360s 160ms/step - loss: 0.5365 - acc: 0.7572 - val_loss: 0.4943 - val_acc: 0.7894\n",
      "Epoch 61/100\n",
      "2243/2243 [==============================] - 376s 168ms/step - loss: 0.5350 - acc: 0.7577 - val_loss: 0.4887 - val_acc: 0.7908\n",
      "Epoch 62/100\n",
      "2243/2243 [==============================] - 379s 169ms/step - loss: 0.5309 - acc: 0.7628 - val_loss: 0.4869 - val_acc: 0.7928\n",
      "Epoch 63/100\n",
      "2243/2243 [==============================] - 378s 168ms/step - loss: 0.5345 - acc: 0.7606 - val_loss: 0.4848 - val_acc: 0.7874\n",
      "Epoch 64/100\n",
      "2243/2243 [==============================] - 378s 168ms/step - loss: 0.5272 - acc: 0.7657 - val_loss: 0.4835 - val_acc: 0.7894\n",
      "Epoch 65/100\n",
      "2243/2243 [==============================] - 370s 165ms/step - loss: 0.5320 - acc: 0.7633 - val_loss: 0.5265 - val_acc: 0.7767\n",
      "Epoch 66/100\n",
      "2243/2243 [==============================] - 371s 165ms/step - loss: 0.5457 - acc: 0.7720 - val_loss: 0.4798 - val_acc: 0.7961\n",
      "Epoch 67/100\n",
      "2243/2243 [==============================] - 378s 169ms/step - loss: 0.5277 - acc: 0.7735 - val_loss: 0.4804 - val_acc: 0.7975\n",
      "Epoch 68/100\n",
      "2243/2243 [==============================] - 363s 162ms/step - loss: 0.5218 - acc: 0.7715 - val_loss: 0.4774 - val_acc: 0.7948\n",
      "Epoch 69/100\n",
      "2243/2243 [==============================] - 360s 161ms/step - loss: 0.5274 - acc: 0.7724 - val_loss: 0.4821 - val_acc: 0.7975\n",
      "Epoch 70/100\n",
      "2243/2243 [==============================] - 374s 167ms/step - loss: 0.5191 - acc: 0.7773 - val_loss: 0.4751 - val_acc: 0.7981\n",
      "Epoch 71/100\n",
      "2243/2243 [==============================] - 312s 139ms/step - loss: 0.5143 - acc: 0.7762 - val_loss: 0.4792 - val_acc: 0.7995\n",
      "Epoch 72/100\n",
      "2243/2243 [==============================] - 278s 124ms/step - loss: 0.5216 - acc: 0.7735 - val_loss: 0.4727 - val_acc: 0.8008\n",
      "Epoch 73/100\n",
      "2243/2243 [==============================] - 279s 124ms/step - loss: 0.5152 - acc: 0.7753 - val_loss: 0.4709 - val_acc: 0.7968\n",
      "Epoch 74/100\n",
      "2243/2243 [==============================] - 280s 125ms/step - loss: 0.5115 - acc: 0.7726 - val_loss: 0.4696 - val_acc: 0.8001\n",
      "Epoch 75/100\n",
      "2243/2243 [==============================] - 279s 124ms/step - loss: 0.5112 - acc: 0.7740 - val_loss: 0.4683 - val_acc: 0.7975\n",
      "Epoch 76/100\n",
      "2243/2243 [==============================] - 278s 124ms/step - loss: 0.5152 - acc: 0.7760 - val_loss: 0.4682 - val_acc: 0.8082\n",
      "Epoch 77/100\n",
      "2243/2243 [==============================] - 278s 124ms/step - loss: 0.5201 - acc: 0.7704 - val_loss: 0.4907 - val_acc: 0.8035\n",
      "Epoch 78/100\n",
      "2243/2243 [==============================] - 285s 127ms/step - loss: 0.5161 - acc: 0.7744 - val_loss: 0.4684 - val_acc: 0.7975\n",
      "Epoch 79/100\n",
      "2243/2243 [==============================] - 282s 126ms/step - loss: 0.5061 - acc: 0.7764 - val_loss: 0.4639 - val_acc: 0.8068\n",
      "Epoch 80/100\n",
      "2243/2243 [==============================] - 278s 124ms/step - loss: 0.5010 - acc: 0.7784 - val_loss: 0.4634 - val_acc: 0.7981\n",
      "Epoch 81/100\n",
      "2243/2243 [==============================] - 279s 124ms/step - loss: 0.5043 - acc: 0.7786 - val_loss: 0.4634 - val_acc: 0.8008\n",
      "Epoch 82/100\n",
      "2243/2243 [==============================] - 279s 124ms/step - loss: 0.4977 - acc: 0.7804 - val_loss: 0.4575 - val_acc: 0.8088\n",
      "Epoch 83/100\n",
      "2243/2243 [==============================] - 281s 125ms/step - loss: 0.5029 - acc: 0.7802 - val_loss: 0.4570 - val_acc: 0.8015\n",
      "Epoch 84/100\n",
      "2243/2243 [==============================] - 281s 125ms/step - loss: 0.5002 - acc: 0.7778 - val_loss: 0.4580 - val_acc: 0.8135\n",
      "Epoch 85/100\n",
      "2243/2243 [==============================] - 276s 123ms/step - loss: 0.4935 - acc: 0.7829 - val_loss: 0.4535 - val_acc: 0.8015\n",
      "Epoch 86/100\n",
      "2243/2243 [==============================] - 281s 125ms/step - loss: 0.5010 - acc: 0.7862 - val_loss: 0.4800 - val_acc: 0.8075\n",
      "Epoch 87/100\n",
      "2243/2243 [==============================] - 279s 124ms/step - loss: 0.5048 - acc: 0.7798 - val_loss: 0.4517 - val_acc: 0.8028\n",
      "Epoch 88/100\n",
      "2243/2243 [==============================] - 333s 148ms/step - loss: 0.5007 - acc: 0.7822 - val_loss: 0.4507 - val_acc: 0.8028\n",
      "Epoch 89/100\n",
      "2243/2243 [==============================] - 346s 154ms/step - loss: 0.4937 - acc: 0.7847 - val_loss: 0.4626 - val_acc: 0.8088\n",
      "Epoch 90/100\n",
      "2243/2243 [==============================] - 351s 157ms/step - loss: 0.4893 - acc: 0.7862 - val_loss: 0.4469 - val_acc: 0.8048\n",
      "Epoch 91/100\n",
      "2243/2243 [==============================] - 363s 162ms/step - loss: 0.4882 - acc: 0.7840 - val_loss: 0.4537 - val_acc: 0.8021\n",
      "Epoch 92/100\n",
      "2243/2243 [==============================] - 383s 171ms/step - loss: 0.4882 - acc: 0.7900 - val_loss: 0.4472 - val_acc: 0.8021\n",
      "Epoch 93/100\n",
      "2243/2243 [==============================] - 342s 152ms/step - loss: 0.4871 - acc: 0.7931 - val_loss: 0.4484 - val_acc: 0.8008\n",
      "Epoch 94/100\n",
      "2243/2243 [==============================] - 338s 151ms/step - loss: 0.4877 - acc: 0.7878 - val_loss: 0.4469 - val_acc: 0.8108\n",
      "Epoch 95/100\n",
      "2243/2243 [==============================] - 444s 198ms/step - loss: 0.4829 - acc: 0.7898 - val_loss: 0.4452 - val_acc: 0.8001\n",
      "Epoch 96/100\n",
      "2243/2243 [==============================] - 429s 191ms/step - loss: 0.4864 - acc: 0.7940 - val_loss: 0.4420 - val_acc: 0.8108\n",
      "Epoch 97/100\n",
      "2243/2243 [==============================] - 439s 196ms/step - loss: 0.4878 - acc: 0.7920 - val_loss: 0.4368 - val_acc: 0.8088\n",
      "Epoch 98/100\n",
      "2243/2243 [==============================] - 433s 193ms/step - loss: 0.4782 - acc: 0.7936 - val_loss: 0.4460 - val_acc: 0.8055\n",
      "Epoch 99/100\n",
      "2243/2243 [==============================] - 431s 192ms/step - loss: 0.4895 - acc: 0.7878 - val_loss: 0.4343 - val_acc: 0.8102\n",
      "Epoch 100/100\n",
      "2243/2243 [==============================] - 393s 175ms/step - loss: 0.4807 - acc: 0.8016 - val_loss: 0.4368 - val_acc: 0.8028\n"
     ]
    }
   ],
   "source": [
    "modelrnn_train = model.fit(x_train, y_train, validation_split=0.25, batch_size=batch_size, epochs=num_epochs)"
   ]
  },
  {
   "cell_type": "markdown",
   "metadata": {},
   "source": [
    "### Save model"
   ]
  },
  {
   "cell_type": "code",
   "execution_count": 26,
   "metadata": {},
   "outputs": [
    {
     "name": "stdout",
     "output_type": "stream",
     "text": [
      "Saved model to disk\n"
     ]
    }
   ],
   "source": [
    "# Serialize model to JSON\n",
    "model_digit_json = model.to_json()\n",
    "with open(\"model_news_100.json\", \"w\") as json_file:\n",
    "    json_file.write(model_digit_json)\n",
    "    \n",
    "# Serialize weights to HDF5\n",
    "model.save_weights(\"model_news_100.h5\")\n",
    "print(\"Saved model to disk\")"
   ]
  },
  {
   "cell_type": "markdown",
   "metadata": {},
   "source": [
    "### Plot model accuracy"
   ]
  },
  {
   "cell_type": "code",
   "execution_count": 27,
   "metadata": {},
   "outputs": [
    {
     "data": {
      "image/png": "[encoded data removed]",
      "text/plain": [
       "<Figure size 432x288 with 1 Axes>"
      ]
     },
     "metadata": {
      "needs_background": "light"
     },
     "output_type": "display_data"
    }
   ],
   "source": [
    "plt.plot(modelrnn_train.history['acc'])\n",
    "plt.plot(modelrnn_train.history['val_acc'])\n",
    "plt.title('RNN LSTM model accuracy')\n",
    "plt.ylabel('accuracy')\n",
    "plt.xlabel('epoch')\n",
    "plt.legend(['train', 'validation'], loc='bottom right')\n",
    "plt.show()"
   ]
  },
  {
   "cell_type": "markdown",
   "metadata": {},
   "source": [
    "### Plot model loss"
   ]
  },
  {
   "cell_type": "code",
   "execution_count": 28,
   "metadata": {},
   "outputs": [
    {
     "data": {
      "image/png": "[encoded data removed]",
      "text/plain": [
       "<Figure size 432x288 with 1 Axes>"
      ]
     },
     "metadata": {
      "needs_background": "light"
     },
     "output_type": "display_data"
    }
   ],
   "source": [
    "plt.plot(modelrnn_train.history['loss'])\n",
    "plt.plot(modelrnn_train.history['val_loss'])\n",
    "plt.title('RNN LSTM model loss')\n",
    "plt.ylabel('loss')\n",
    "plt.xlabel('epoch')\n",
    "plt.legend(['train', 'validation'], loc='upper right')\n",
    "plt.show()"
   ]
  },
  {
   "cell_type": "markdown",
   "metadata": {},
   "source": [
    "### Evaluate model"
   ]
  },
  {
   "cell_type": "code",
   "execution_count": 29,
   "metadata": {},
   "outputs": [
    {
     "name": "stdout",
     "output_type": "stream",
     "text": [
      "997/997 [==============================] - 19s 19ms/step\n",
      "\n",
      "Test Accuracy: 80.39%\n"
     ]
    }
   ],
   "source": [
    "loss, accuracy = model.evaluate(x_test, y_test, verbose=1)\n",
    "print(\"\\nTest Accuracy: %.2f%%\" % (accuracy*100))"
   ]
  },
  {
   "cell_type": "code",
   "execution_count": 30,
   "metadata": {},
   "outputs": [
    {
     "name": "stdout",
     "output_type": "stream",
     "text": [
      "Test Loss: 0.438\n"
     ]
    }
   ],
   "source": [
    "print('Test Loss: {:0.3f}'.format(loss))"
   ]
  },
  {
   "cell_type": "code",
   "execution_count": null,
   "metadata": {},
   "outputs": [],
   "source": []
  }
 ],
 "metadata": {
  "kernelspec": {
   "display_name": "Python 3",
   "language": "python",
   "name": "python3"
  },
  "language_info": {
   "codemirror_mode": {
    "name": "ipython",
    "version": 3
   },
   "file_extension": ".py",
   "mimetype": "text/x-python",
   "name": "python",
   "nbconvert_exporter": "python",
   "pygments_lexer": "ipython3",
   "version": "3.6.7"
  }
 },
 "nbformat": 4,
 "nbformat_minor": 2
}
